{
 "cells": [
  {
   "cell_type": "markdown",
   "metadata": {},
   "source": [
    "### 1. Model an organisation of employees, management and board of directors in 3 sets.\n",
    "Board of directors: Benny, Hans, Tine, Mille, Torben, Troels, Søren\n",
    "\n",
    "Management: Tine, Trunte, Rane\n",
    "\n",
    "Employees: Niels, Anna, Tine, Ole, Trunte, Bent, Rane, Allan, Stine, Claus, James, Lars\n",
    "\n",
    "who in the board of directors is not an employee?\n",
    "who in the board of directors is also an employee?\n",
    "how many of the management is also member of the board?\n",
    "All members of the managent also an employee\n",
    "All members of the management also in the board?\n",
    "Who is an employee, member of the management, and a member of the board?\n",
    "Who of the employee is neither a memeber or the board or management?"
   ]
  },
  {
   "cell_type": "code",
   "execution_count": 382,
   "metadata": {},
   "outputs": [],
   "source": [
    "board_of_directors = {\"Benny\", \"Hans\", \"Tine\", \"Mille\", \"Torben\", \"Troels\", \"Søren\"}\n",
    "management = {\"Tine\", \"Trunte\", \"Rane\"}\n",
    "employees = {\"Niels\", \"Anna\", \"Tine\", \"Ole\", \"Trunte\", \"Bent\", \"Rane\", \"Allan\", \"Stine\", \"Claus\", \"James\", \"Lars\"}"
   ]
  },
  {
   "cell_type": "code",
   "execution_count": 383,
   "metadata": {},
   "outputs": [
    {
     "name": "stdout",
     "output_type": "stream",
     "text": [
      "{'Torben', 'Hans', 'Troels', 'Søren', 'Benny', 'Mille'}\n",
      "{'Tine'}\n",
      "1\n",
      "True\n",
      "False\n",
      "{'Tine'}\n",
      "{'Allan', 'James', 'Bent', 'Niels', 'Lars', 'Anna', 'Claus', 'Ole', 'Stine'}\n"
     ]
    }
   ],
   "source": [
    "# who in the board of directors is not an employee?\n",
    "print(board_of_directors.difference(employees))\n",
    "\n",
    "# who in the board of directors is also an employee?\n",
    "print(board_of_directors.intersection(employees))\n",
    "\n",
    "# how many of the management is also member of the board?\n",
    "print(len(management.intersection(board_of_directors)))\n",
    "\n",
    "# All members of the management also an employee\n",
    "print(management.issubset(employees))\n",
    "\n",
    "# All members of the management also in the board?\n",
    "print(management.issubset(board_of_directors))\n",
    "\n",
    "# Who is an employee, member of the management, and a member of the board?\n",
    "print(employees.intersection(management, board_of_directors))\n",
    "\n",
    "# Who of the employee is neither a member of the board nor management?\n",
    "print(employees.difference(board_of_directors.union(management)))\n",
    "\n",
    "\n"
   ]
  },
  {
   "cell_type": "markdown",
   "metadata": {},
   "source": [
    "### 2. Create a list of tuples from the following data structure\n",
    "{‘a’: ‘Alpha’, ‘b’ : ‘Beta’, ‘g’: ‘Gamma’}"
   ]
  },
  {
   "cell_type": "code",
   "execution_count": 384,
   "metadata": {},
   "outputs": [
    {
     "name": "stdout",
     "output_type": "stream",
     "text": [
      "[('a', 'Alpha'), ('b', 'Beta'), ('g', 'Gamma')]\n"
     ]
    }
   ],
   "source": [
    "data = {'a': 'Alpha', 'b': 'Beta', 'g': 'Gamma'}\n",
    "data_tuple = list(data.items())\n",
    "print(data_tuple)"
   ]
  },
  {
   "cell_type": "markdown",
   "metadata": {},
   "source": [
    "### 3. From these 2 sets:\n",
    "{'a', 'e', 'i', 'o', 'u', 'y'}\n",
    "\n",
    "{'a', 'e', 'i', 'o', 'u', 'y', 'æ' ,'ø', 'å'}"
   ]
  },
  {
   "cell_type": "code",
   "execution_count": 385,
   "metadata": {},
   "outputs": [],
   "source": [
    "S1 = {'a', 'e', 'i', 'o', 'u', 'y'}\n",
    "\n",
    "S2 = {'a', 'e', 'i', 'o', 'u', 'y', 'æ' ,'ø', 'å'}"
   ]
  },
  {
   "cell_type": "markdown",
   "metadata": {},
   "source": [
    "#### Union"
   ]
  },
  {
   "cell_type": "code",
   "execution_count": 386,
   "metadata": {},
   "outputs": [
    {
     "name": "stdout",
     "output_type": "stream",
     "text": [
      "{'ø', 'i', 'å', 'u', 'o', 'y', 'e', 'æ', 'a'}\n",
      "{'ø', 'i', 'å', 'u', 'o', 'y', 'e', 'æ', 'a'}\n"
     ]
    }
   ],
   "source": [
    "print(S1.union(S2))\n",
    "print(S1 | S2)"
   ]
  },
  {
   "cell_type": "markdown",
   "metadata": {},
   "source": [
    "#### Symmetric difference"
   ]
  },
  {
   "cell_type": "code",
   "execution_count": 387,
   "metadata": {},
   "outputs": [
    {
     "name": "stdout",
     "output_type": "stream",
     "text": [
      "{'ø', 'å', 'æ'}\n",
      "{'ø', 'å', 'æ'}\n"
     ]
    }
   ],
   "source": [
    "print(S1.symmetric_difference(S2))\n",
    "print(S1 ^ S2)"
   ]
  },
  {
   "cell_type": "markdown",
   "metadata": {},
   "source": [
    "#### Difference"
   ]
  },
  {
   "cell_type": "code",
   "execution_count": 388,
   "metadata": {},
   "outputs": [
    {
     "name": "stdout",
     "output_type": "stream",
     "text": [
      "set()\n",
      "set()\n"
     ]
    }
   ],
   "source": [
    "print(S1.difference(S2))\n",
    "print(S1 - S2)"
   ]
  },
  {
   "cell_type": "markdown",
   "metadata": {},
   "source": [
    "#### Disjoint"
   ]
  },
  {
   "cell_type": "code",
   "execution_count": 389,
   "metadata": {},
   "outputs": [
    {
     "name": "stdout",
     "output_type": "stream",
     "text": [
      "{'i', 'u', 'o', 'y', 'e', 'a'}\n",
      "{'i', 'u', 'o', 'y', 'e', 'a'}\n",
      "False\n",
      "False\n"
     ]
    }
   ],
   "source": [
    "# If you look at the illustration these are the result you want\n",
    "print(S1.intersection(S2))\n",
    "print(S1 & S2)\n",
    "\n",
    "# If you look at the description, these result are probably the ones you want. Tho there is no direct operator for the isdisjoint method.\n",
    "print(S1.isdisjoint(S2))\n",
    "print(not(S1 & S2))"
   ]
  },
  {
   "cell_type": "markdown",
   "metadata": {},
   "source": [
    "### 4. Date Decoder.\n",
    "A date of the form 8-MAR-85 includes the name of the month, which must be translated to a number.\n",
    "\n",
    "Create a dict suitable for decoding month names to numbers.\n",
    "\n",
    "Create a function which uses string operations to split the date into 3 items using the \"-\" character.\n",
    "\n",
    "Translate the month, correct the year to include all of the digits.\n",
    "\n",
    " \n",
    "\n",
    "The function will accept a date in the \"dd-MMM-yy\" format and respond with a tuple of ( y , m , d )."
   ]
  },
  {
   "cell_type": "code",
   "execution_count": 390,
   "metadata": {},
   "outputs": [
    {
     "name": "stdout",
     "output_type": "stream",
     "text": [
      "(1985, 3, 8)\n"
     ]
    }
   ],
   "source": [
    "month_decoder = {\"JAN\": 1, \"FEB\": 2, \"MAR\": 3, \"APR\": 4, \"MAY\": 5, \"JUN\": 6, \"JUL\": 7, \"AUG\": 8, \"SEP\": 9, \"OCT\": 10, \"NOV\": 11, \"DEC\": 12}\n",
    "\n",
    "def decoder(date):\n",
    "  day, month, year = date.split(\"-\")\n",
    "\n",
    "  month = month_decoder[month]\n",
    "\n",
    "  year = int(year)\n",
    "  if year > 23:\n",
    "    year += 1900\n",
    "  else:\n",
    "    year += 2000\n",
    "\n",
    "  return (year, month, int(day))\n",
    "\n",
    "\n",
    "date_str = \"08-MAR-85\"\n",
    "print(decoder(date_str))"
   ]
  },
  {
   "cell_type": "markdown",
   "metadata": {},
   "source": [
    "### 5. Party exercise\n",
    "\n",
    "You are organizing a party and have two lists of friends. One list contains the friends you have invited, and the other list contains the friends who have RSVP'd.\n",
    "\n",
    "You want to find out who has not RSVP'd, who was not invited but RSVP'd, and who are common in both lists.\n",
    "\n",
    "Task: Write a Python program that takes two sets of names, one set containing the names of friends invited to the party and another set containing the names of friends who have RSVP'd.\n",
    "The program should then print out the names of friends who have not RSVP'd, the names of friends who were not invited but RSVP'd, and the names of friends who are common in both lists (i.e., invited and RSVP'd).\n",
    " "
   ]
  },
  {
   "cell_type": "code",
   "execution_count": 391,
   "metadata": {},
   "outputs": [
    {
     "name": "stdout",
     "output_type": "stream",
     "text": [
      "Invited people who have not responded: Nina, Jasmine, Alice, Ella, George, Ian, Michael, David, Oscar, Hannah, Charlie\n",
      "These people have responded but was'nt invited: Freddy, James\n",
      "People who were both invited and RSVP'd:  Lana, Fiona, Kevin, Bob\n"
     ]
    }
   ],
   "source": [
    "invited_friends = {\"Alice\", \"Bob\", \"Charlie\", \"David\", \"Ella\", \"Fiona\", \"George\", \"Hannah\", \"Ian\", \"Jasmine\", \"Kevin\", \"Lana\", \"Michael\", \"Nina\", \"Oscar\"}\n",
    "RSVPd_friends = {\"Bob\", \"Fiona\", \"Kevin\", \"Lana\", \"James\", \"Freddy\"}\n",
    "\n",
    "def party_list(invited, rsvp):\n",
    "  not_RSVPd = invited.difference(rsvp)\n",
    "  print(\"Invited people who have not responded: \" + ', '.join(not_RSVPd))\n",
    "\n",
    "  not_invited = rsvp.difference(invited)\n",
    "  print(\"These people have responded but was'nt invited: \" + ', '.join(not_invited))\n",
    "\n",
    "  common = invited.intersection(rsvp)\n",
    "  print(\"People who were both invited and RSVP'd: \", ', '.join(common))\n",
    "\n",
    "party_list(invited_friends, RSVPd_friends)"
   ]
  },
  {
   "cell_type": "markdown",
   "metadata": {},
   "source": [
    "### 6. You are a teacher and have a dictionary containing the names of your students as keys and their grades as values.\n",
    "\n",
    "You want to update the grades of some students and then print out the names of all students who have a grade higher than 85.\n",
    "\n",
    "Task: Write a Python program that takes a dictionary of students and their grades, updates the grades of specific students, and then prints out the names of all students who have a grade higher than 85."
   ]
  },
  {
   "cell_type": "code",
   "execution_count": 392,
   "metadata": {},
   "outputs": [
    {
     "name": "stdout",
     "output_type": "stream",
     "text": [
      "{'Hermione': 98, 'Luna': 92, 'Ginny': 88, 'Cho': 87, 'Cedric': 90, 'Padma': 89, 'Parvati': 90, 'George': 86, 'Angelina': 87, 'Ernie': 86, 'Terry': 88}\n"
     ]
    }
   ],
   "source": [
    "students = {\n",
    "    \"Harry\": 85,\n",
    "    \"Ron\": 80,\n",
    "    \"Hermione\": 98,\n",
    "    \"Draco\": 75,\n",
    "    \"Luna\": 92,\n",
    "    \"Neville\": 78,\n",
    "    \"Ginny\": 88,\n",
    "    \"Cho\": 87,\n",
    "    \"Cedric\": 90,\n",
    "    \"Seamus\": 76,\n",
    "    \"Dean\": 84,\n",
    "    \"Pansy\": 70,\n",
    "    \"Blaise\": 82,\n",
    "    \"Padma\": 89,\n",
    "    \"Parvati\": 85,\n",
    "    \"Fred\": 86,\n",
    "    \"George\": 86,\n",
    "    \"Oliver\": 83,\n",
    "    \"Katie\": 80,\n",
    "    \"Angelina\": 87,\n",
    "    \"Lavender\": 78,\n",
    "    \"Lee\": 81,\n",
    "    \"Roger\": 79,\n",
    "    \"Alicia\": 84,\n",
    "    \"Marietta\": 72,\n",
    "    \"Ernie\": 80,\n",
    "    \"Justin\": 82,\n",
    "    \"Terry\": 88,\n",
    "    \"Lisa\": 85,\n",
    "    \"Mandy\": 79\n",
    "}\n",
    "\n",
    "updated_students = {\n",
    "  \"Parvati\": 90,\n",
    "  \"Ernie\": 86,\n",
    "  \"Fred\": 79,\n",
    "  \"Lisa\": 83\n",
    "}\n",
    "\n",
    "def update_grades(list, list_new_grades):\n",
    "  list.update(list_new_grades)\n",
    "  return {student: grade for student, grade in list.items() if grade > 85}\n",
    "\n",
    "\n",
    "print(update_grades(students, updated_students))\n"
   ]
  }
 ],
 "metadata": {
  "kernelspec": {
   "display_name": "Python 3",
   "language": "python",
   "name": "python3"
  },
  "language_info": {
   "codemirror_mode": {
    "name": "ipython",
    "version": 3
   },
   "file_extension": ".py",
   "mimetype": "text/x-python",
   "name": "python",
   "nbconvert_exporter": "python",
   "pygments_lexer": "ipython3",
   "version": "3.11.4"
  },
  "orig_nbformat": 4
 },
 "nbformat": 4,
 "nbformat_minor": 2
}
